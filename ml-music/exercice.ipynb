{
 "cells": [
  {
   "cell_type": "code",
   "execution_count": 51,
   "id": "b3736352-a94c-422d-ac25-02912da46bc0",
   "metadata": {},
   "outputs": [
    {
     "name": "stdout",
     "output_type": "stream",
     "text": [
      "7.982889504759609\n"
     ]
    }
   ],
   "source": [
    "import pandas as pd\n",
    "df = pd.read_csv('./data/vgsales.csv')\n",
    "count = 0\n",
    "countTot = 0\n",
    "# for game in df.values:\n",
    "    # Exercice 1\n",
    "    # if(game[2] == 'NES') :\n",
    "    #     print(game)\n",
    "\n",
    "     # Exercice 2\n",
    "#print(df['JP_Sales'].sum())\n",
    "          \n",
    "\n",
    "    # Exercice 3\n",
    "    #if(game[3] > 2008) : \n",
    "     # print(game)\n",
    "     #Exercice 4\n",
    "countWii = len(df[df['Platform'] == 'Wii'])\n",
    "count = len(df)\n",
    "\n",
    "\n",
    "print((countWii/count) *100)\n",
    "\n",
    "\n",
    "\n",
    "\n",
    "\n",
    "  "
   ]
  }
 ],
 "metadata": {
  "kernelspec": {
   "display_name": "ml-music-venv",
   "language": "python",
   "name": "python3"
  },
  "language_info": {
   "codemirror_mode": {
    "name": "ipython",
    "version": 3
   },
   "file_extension": ".py",
   "mimetype": "text/x-python",
   "name": "python",
   "nbconvert_exporter": "python",
   "pygments_lexer": "ipython3",
   "version": "3.13.0"
  }
 },
 "nbformat": 4,
 "nbformat_minor": 5
}
